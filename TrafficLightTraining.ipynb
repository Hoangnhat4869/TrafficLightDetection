{
  "cells": [
    {
      "cell_type": "markdown",
      "metadata": {
        "id": "view-in-github",
        "colab_type": "text"
      },
      "source": [
        "<a href=\"https://colab.research.google.com/github/Hoangnhat4869/TrafficLightDetection/blob/main/TrafficLightTraining.ipynb\" target=\"_parent\"><img src=\"https://colab.research.google.com/assets/colab-badge.svg\" alt=\"Open In Colab\"/></a>"
      ]
    },
    {
      "cell_type": "code",
      "execution_count": null,
      "metadata": {
        "colab": {
          "base_uri": "https://localhost:8080/"
        },
        "id": "-Ne3Q2_3YETC",
        "outputId": "c21d8875-561a-4e65-940c-098309ba10d5"
      },
      "outputs": [
        {
          "output_type": "stream",
          "name": "stdout",
          "text": [
            "Drive already mounted at /content/drive; to attempt to forcibly remount, call drive.mount(\"/content/drive\", force_remount=True).\n"
          ]
        }
      ],
      "source": [
        "from google.colab import drive\n",
        "drive.mount('/content/drive')"
      ]
    },
    {
      "cell_type": "markdown",
      "metadata": {
        "id": "NRusB9P164Ao"
      },
      "source": [
        "### 1. Install YOLOv5 and some requirements"
      ]
    },
    {
      "cell_type": "code",
      "execution_count": null,
      "metadata": {
        "colab": {
          "base_uri": "https://localhost:8080/"
        },
        "id": "J_6q5Xvbx5pk",
        "outputId": "3cb8ca1d-af11-4438-86d5-79343ffee05e"
      },
      "outputs": [
        {
          "output_type": "stream",
          "name": "stdout",
          "text": [
            "Cloning into 'yolov5'...\n",
            "remote: Enumerating objects: 16567, done.\u001b[K\n",
            "remote: Counting objects: 100% (45/45), done.\u001b[K\n",
            "remote: Compressing objects: 100% (32/32), done.\u001b[K\n",
            "remote: Total 16567 (delta 23), reused 31 (delta 13), pack-reused 16522\u001b[K\n",
            "Receiving objects: 100% (16567/16567), 15.02 MiB | 19.57 MiB/s, done.\n",
            "Resolving deltas: 100% (11382/11382), done.\n"
          ]
        }
      ],
      "source": [
        "!git clone https://github.com/ultralytics/yolov5"
      ]
    },
    {
      "cell_type": "code",
      "source": [
        "import shutil"
      ],
      "metadata": {
        "id": "uV690Q20BOme"
      },
      "execution_count": null,
      "outputs": []
    },
    {
      "cell_type": "code",
      "source": [
        "shutil.rmtree(\"yolov5\")"
      ],
      "metadata": {
        "id": "cHNCnj-5BcAT"
      },
      "execution_count": null,
      "outputs": []
    },
    {
      "cell_type": "code",
      "execution_count": null,
      "metadata": {
        "colab": {
          "base_uri": "https://localhost:8080/"
        },
        "id": "inKH8KL76VaZ",
        "outputId": "32dc482b-1090-4fed-e55b-12910e542168"
      },
      "outputs": [
        {
          "output_type": "stream",
          "name": "stdout",
          "text": [
            "/content/yolov5/yolov5\n"
          ]
        }
      ],
      "source": [
        "cd yolov5"
      ]
    },
    {
      "cell_type": "code",
      "execution_count": null,
      "metadata": {
        "colab": {
          "base_uri": "https://localhost:8080/",
          "height": 1000
        },
        "id": "dACRF9im1f3k",
        "outputId": "b68c9075-3df7-4339-9c55-57e73384e152"
      },
      "outputs": [
        {
          "output_type": "stream",
          "name": "stdout",
          "text": [
            "Collecting gitpython>=3.1.30 (from -r requirements.txt (line 5))\n",
            "  Downloading GitPython-3.1.43-py3-none-any.whl (207 kB)\n",
            "\u001b[2K     \u001b[90m━━━━━━━━━━━━━━━━━━━━━━━━━━━━━━━━━━━━━━━━\u001b[0m \u001b[32m207.3/207.3 kB\u001b[0m \u001b[31m6.0 MB/s\u001b[0m eta \u001b[36m0:00:00\u001b[0m\n",
            "\u001b[?25hRequirement already satisfied: matplotlib>=3.3 in /usr/local/lib/python3.10/dist-packages (from -r requirements.txt (line 6)) (3.7.1)\n",
            "Requirement already satisfied: numpy>=1.23.5 in /usr/local/lib/python3.10/dist-packages (from -r requirements.txt (line 7)) (1.25.2)\n",
            "Requirement already satisfied: opencv-python>=4.1.1 in /usr/local/lib/python3.10/dist-packages (from -r requirements.txt (line 8)) (4.8.0.76)\n",
            "Collecting pillow>=10.3.0 (from -r requirements.txt (line 9))\n",
            "  Downloading pillow-10.3.0-cp310-cp310-manylinux_2_28_x86_64.whl (4.5 MB)\n",
            "\u001b[2K     \u001b[90m━━━━━━━━━━━━━━━━━━━━━━━━━━━━━━━━━━━━━━━━\u001b[0m \u001b[32m4.5/4.5 MB\u001b[0m \u001b[31m21.5 MB/s\u001b[0m eta \u001b[36m0:00:00\u001b[0m\n",
            "\u001b[?25hRequirement already satisfied: psutil in /usr/local/lib/python3.10/dist-packages (from -r requirements.txt (line 10)) (5.9.5)\n",
            "Requirement already satisfied: PyYAML>=5.3.1 in /usr/local/lib/python3.10/dist-packages (from -r requirements.txt (line 11)) (6.0.1)\n",
            "Requirement already satisfied: requests>=2.23.0 in /usr/local/lib/python3.10/dist-packages (from -r requirements.txt (line 12)) (2.31.0)\n",
            "Requirement already satisfied: scipy>=1.4.1 in /usr/local/lib/python3.10/dist-packages (from -r requirements.txt (line 13)) (1.11.4)\n",
            "Collecting thop>=0.1.1 (from -r requirements.txt (line 14))\n",
            "  Downloading thop-0.1.1.post2209072238-py3-none-any.whl (15 kB)\n",
            "Requirement already satisfied: torch>=1.8.0 in /usr/local/lib/python3.10/dist-packages (from -r requirements.txt (line 15)) (2.2.1+cu121)\n",
            "Requirement already satisfied: torchvision>=0.9.0 in /usr/local/lib/python3.10/dist-packages (from -r requirements.txt (line 16)) (0.17.1+cu121)\n",
            "Requirement already satisfied: tqdm>=4.64.0 in /usr/local/lib/python3.10/dist-packages (from -r requirements.txt (line 17)) (4.66.2)\n",
            "Collecting ultralytics>=8.0.232 (from -r requirements.txt (line 18))\n",
            "  Downloading ultralytics-8.2.3-py3-none-any.whl (752 kB)\n",
            "\u001b[2K     \u001b[90m━━━━━━━━━━━━━━━━━━━━━━━━━━━━━━━━━━━━━━━━\u001b[0m \u001b[32m752.1/752.1 kB\u001b[0m \u001b[31m33.6 MB/s\u001b[0m eta \u001b[36m0:00:00\u001b[0m\n",
            "\u001b[?25hRequirement already satisfied: pandas>=1.1.4 in /usr/local/lib/python3.10/dist-packages (from -r requirements.txt (line 27)) (2.0.3)\n",
            "Requirement already satisfied: seaborn>=0.11.0 in /usr/local/lib/python3.10/dist-packages (from -r requirements.txt (line 28)) (0.13.1)\n",
            "Requirement already satisfied: setuptools>=65.5.1 in /usr/local/lib/python3.10/dist-packages (from -r requirements.txt (line 42)) (67.7.2)\n",
            "Requirement already satisfied: wheel>=0.38.0 in /usr/local/lib/python3.10/dist-packages (from -r requirements.txt (line 50)) (0.43.0)\n",
            "Collecting gitdb<5,>=4.0.1 (from gitpython>=3.1.30->-r requirements.txt (line 5))\n",
            "  Downloading gitdb-4.0.11-py3-none-any.whl (62 kB)\n",
            "\u001b[2K     \u001b[90m━━━━━━━━━━━━━━━━━━━━━━━━━━━━━━━━━━━━━━━━\u001b[0m \u001b[32m62.7/62.7 kB\u001b[0m \u001b[31m2.5 MB/s\u001b[0m eta \u001b[36m0:00:00\u001b[0m\n",
            "\u001b[?25hRequirement already satisfied: contourpy>=1.0.1 in /usr/local/lib/python3.10/dist-packages (from matplotlib>=3.3->-r requirements.txt (line 6)) (1.2.1)\n",
            "Requirement already satisfied: cycler>=0.10 in /usr/local/lib/python3.10/dist-packages (from matplotlib>=3.3->-r requirements.txt (line 6)) (0.12.1)\n",
            "Requirement already satisfied: fonttools>=4.22.0 in /usr/local/lib/python3.10/dist-packages (from matplotlib>=3.3->-r requirements.txt (line 6)) (4.51.0)\n",
            "Requirement already satisfied: kiwisolver>=1.0.1 in /usr/local/lib/python3.10/dist-packages (from matplotlib>=3.3->-r requirements.txt (line 6)) (1.4.5)\n",
            "Requirement already satisfied: packaging>=20.0 in /usr/local/lib/python3.10/dist-packages (from matplotlib>=3.3->-r requirements.txt (line 6)) (24.0)\n",
            "Requirement already satisfied: pyparsing>=2.3.1 in /usr/local/lib/python3.10/dist-packages (from matplotlib>=3.3->-r requirements.txt (line 6)) (3.1.2)\n",
            "Requirement already satisfied: python-dateutil>=2.7 in /usr/local/lib/python3.10/dist-packages (from matplotlib>=3.3->-r requirements.txt (line 6)) (2.8.2)\n",
            "Requirement already satisfied: charset-normalizer<4,>=2 in /usr/local/lib/python3.10/dist-packages (from requests>=2.23.0->-r requirements.txt (line 12)) (3.3.2)\n",
            "Requirement already satisfied: idna<4,>=2.5 in /usr/local/lib/python3.10/dist-packages (from requests>=2.23.0->-r requirements.txt (line 12)) (3.7)\n",
            "Requirement already satisfied: urllib3<3,>=1.21.1 in /usr/local/lib/python3.10/dist-packages (from requests>=2.23.0->-r requirements.txt (line 12)) (2.0.7)\n",
            "Requirement already satisfied: certifi>=2017.4.17 in /usr/local/lib/python3.10/dist-packages (from requests>=2.23.0->-r requirements.txt (line 12)) (2024.2.2)\n",
            "Requirement already satisfied: filelock in /usr/local/lib/python3.10/dist-packages (from torch>=1.8.0->-r requirements.txt (line 15)) (3.13.4)\n",
            "Requirement already satisfied: typing-extensions>=4.8.0 in /usr/local/lib/python3.10/dist-packages (from torch>=1.8.0->-r requirements.txt (line 15)) (4.11.0)\n",
            "Requirement already satisfied: sympy in /usr/local/lib/python3.10/dist-packages (from torch>=1.8.0->-r requirements.txt (line 15)) (1.12)\n",
            "Requirement already satisfied: networkx in /usr/local/lib/python3.10/dist-packages (from torch>=1.8.0->-r requirements.txt (line 15)) (3.3)\n",
            "Requirement already satisfied: jinja2 in /usr/local/lib/python3.10/dist-packages (from torch>=1.8.0->-r requirements.txt (line 15)) (3.1.3)\n",
            "Requirement already satisfied: fsspec in /usr/local/lib/python3.10/dist-packages (from torch>=1.8.0->-r requirements.txt (line 15)) (2023.6.0)\n",
            "Collecting nvidia-cuda-nvrtc-cu12==12.1.105 (from torch>=1.8.0->-r requirements.txt (line 15))\n",
            "  Using cached nvidia_cuda_nvrtc_cu12-12.1.105-py3-none-manylinux1_x86_64.whl (23.7 MB)\n",
            "Collecting nvidia-cuda-runtime-cu12==12.1.105 (from torch>=1.8.0->-r requirements.txt (line 15))\n",
            "  Using cached nvidia_cuda_runtime_cu12-12.1.105-py3-none-manylinux1_x86_64.whl (823 kB)\n",
            "Collecting nvidia-cuda-cupti-cu12==12.1.105 (from torch>=1.8.0->-r requirements.txt (line 15))\n",
            "  Using cached nvidia_cuda_cupti_cu12-12.1.105-py3-none-manylinux1_x86_64.whl (14.1 MB)\n",
            "Collecting nvidia-cudnn-cu12==8.9.2.26 (from torch>=1.8.0->-r requirements.txt (line 15))\n",
            "  Using cached nvidia_cudnn_cu12-8.9.2.26-py3-none-manylinux1_x86_64.whl (731.7 MB)\n",
            "Collecting nvidia-cublas-cu12==12.1.3.1 (from torch>=1.8.0->-r requirements.txt (line 15))\n",
            "  Using cached nvidia_cublas_cu12-12.1.3.1-py3-none-manylinux1_x86_64.whl (410.6 MB)\n",
            "Collecting nvidia-cufft-cu12==11.0.2.54 (from torch>=1.8.0->-r requirements.txt (line 15))\n",
            "  Using cached nvidia_cufft_cu12-11.0.2.54-py3-none-manylinux1_x86_64.whl (121.6 MB)\n",
            "Collecting nvidia-curand-cu12==10.3.2.106 (from torch>=1.8.0->-r requirements.txt (line 15))\n",
            "  Using cached nvidia_curand_cu12-10.3.2.106-py3-none-manylinux1_x86_64.whl (56.5 MB)\n",
            "Collecting nvidia-cusolver-cu12==11.4.5.107 (from torch>=1.8.0->-r requirements.txt (line 15))\n",
            "  Using cached nvidia_cusolver_cu12-11.4.5.107-py3-none-manylinux1_x86_64.whl (124.2 MB)\n",
            "Collecting nvidia-cusparse-cu12==12.1.0.106 (from torch>=1.8.0->-r requirements.txt (line 15))\n",
            "  Using cached nvidia_cusparse_cu12-12.1.0.106-py3-none-manylinux1_x86_64.whl (196.0 MB)\n",
            "Collecting nvidia-nccl-cu12==2.19.3 (from torch>=1.8.0->-r requirements.txt (line 15))\n",
            "  Using cached nvidia_nccl_cu12-2.19.3-py3-none-manylinux1_x86_64.whl (166.0 MB)\n",
            "Collecting nvidia-nvtx-cu12==12.1.105 (from torch>=1.8.0->-r requirements.txt (line 15))\n",
            "  Using cached nvidia_nvtx_cu12-12.1.105-py3-none-manylinux1_x86_64.whl (99 kB)\n",
            "Requirement already satisfied: triton==2.2.0 in /usr/local/lib/python3.10/dist-packages (from torch>=1.8.0->-r requirements.txt (line 15)) (2.2.0)\n",
            "Collecting nvidia-nvjitlink-cu12 (from nvidia-cusolver-cu12==11.4.5.107->torch>=1.8.0->-r requirements.txt (line 15))\n",
            "  Using cached nvidia_nvjitlink_cu12-12.4.127-py3-none-manylinux2014_x86_64.whl (21.1 MB)\n",
            "Requirement already satisfied: py-cpuinfo in /usr/local/lib/python3.10/dist-packages (from ultralytics>=8.0.232->-r requirements.txt (line 18)) (9.0.0)\n",
            "Requirement already satisfied: pytz>=2020.1 in /usr/local/lib/python3.10/dist-packages (from pandas>=1.1.4->-r requirements.txt (line 27)) (2023.4)\n",
            "Requirement already satisfied: tzdata>=2022.1 in /usr/local/lib/python3.10/dist-packages (from pandas>=1.1.4->-r requirements.txt (line 27)) (2024.1)\n",
            "Collecting smmap<6,>=3.0.1 (from gitdb<5,>=4.0.1->gitpython>=3.1.30->-r requirements.txt (line 5))\n",
            "  Downloading smmap-5.0.1-py3-none-any.whl (24 kB)\n",
            "Requirement already satisfied: six>=1.5 in /usr/local/lib/python3.10/dist-packages (from python-dateutil>=2.7->matplotlib>=3.3->-r requirements.txt (line 6)) (1.16.0)\n",
            "Requirement already satisfied: MarkupSafe>=2.0 in /usr/local/lib/python3.10/dist-packages (from jinja2->torch>=1.8.0->-r requirements.txt (line 15)) (2.1.5)\n",
            "Requirement already satisfied: mpmath>=0.19 in /usr/local/lib/python3.10/dist-packages (from sympy->torch>=1.8.0->-r requirements.txt (line 15)) (1.3.0)\n",
            "Installing collected packages: smmap, pillow, nvidia-nvtx-cu12, nvidia-nvjitlink-cu12, nvidia-nccl-cu12, nvidia-curand-cu12, nvidia-cufft-cu12, nvidia-cuda-runtime-cu12, nvidia-cuda-nvrtc-cu12, nvidia-cuda-cupti-cu12, nvidia-cublas-cu12, nvidia-cusparse-cu12, nvidia-cudnn-cu12, gitdb, nvidia-cusolver-cu12, gitpython, thop, ultralytics\n",
            "  Attempting uninstall: pillow\n",
            "    Found existing installation: Pillow 9.4.0\n",
            "    Uninstalling Pillow-9.4.0:\n",
            "      Successfully uninstalled Pillow-9.4.0\n",
            "\u001b[31mERROR: pip's dependency resolver does not currently take into account all the packages that are installed. This behaviour is the source of the following dependency conflicts.\n",
            "imageio 2.31.6 requires pillow<10.1.0,>=8.3.2, but you have pillow 10.3.0 which is incompatible.\u001b[0m\u001b[31m\n",
            "\u001b[0mSuccessfully installed gitdb-4.0.11 gitpython-3.1.43 nvidia-cublas-cu12-12.1.3.1 nvidia-cuda-cupti-cu12-12.1.105 nvidia-cuda-nvrtc-cu12-12.1.105 nvidia-cuda-runtime-cu12-12.1.105 nvidia-cudnn-cu12-8.9.2.26 nvidia-cufft-cu12-11.0.2.54 nvidia-curand-cu12-10.3.2.106 nvidia-cusolver-cu12-11.4.5.107 nvidia-cusparse-cu12-12.1.0.106 nvidia-nccl-cu12-2.19.3 nvidia-nvjitlink-cu12-12.4.127 nvidia-nvtx-cu12-12.1.105 pillow-10.3.0 smmap-5.0.1 thop-0.1.1.post2209072238 ultralytics-8.2.3\n"
          ]
        },
        {
          "output_type": "display_data",
          "data": {
            "application/vnd.colab-display-data+json": {
              "pip_warning": {
                "packages": [
                  "PIL"
                ]
              },
              "id": "46d9cb6c7d354ea5a2dd71b6088c3b4a"
            }
          },
          "metadata": {}
        }
      ],
      "source": [
        "!pip install -r requirements.txt"
      ]
    },
    {
      "cell_type": "markdown",
      "metadata": {
        "id": "-cP_ZcHQ62kg"
      },
      "source": [
        "### 2. Train model"
      ]
    },
    {
      "cell_type": "code",
      "execution_count": null,
      "metadata": {
        "colab": {
          "base_uri": "https://localhost:8080/"
        },
        "id": "XRh47gzn1v9z",
        "outputId": "12cc163b-d80d-4ba1-cd2d-3241b97c2cb4"
      },
      "outputs": [
        {
          "output_type": "stream",
          "name": "stdout",
          "text": [
            "Requirement already satisfied: pybboxes in /usr/local/lib/python3.10/dist-packages (0.1.6)\n",
            "Requirement already satisfied: numpy in /usr/local/lib/python3.10/dist-packages (from pybboxes) (1.25.2)\n"
          ]
        }
      ],
      "source": [
        "!pip install pybboxes\n",
        "import xml.etree.ElementTree as ET\n",
        "import os\n",
        "import shutil\n",
        "from tqdm import tqdm\n",
        "import pandas as pd\n",
        "import numpy as np\n",
        "import pandas as pd\n",
        "import pybboxes as pbx\n",
        "from collections import defaultdict"
      ]
    },
    {
      "cell_type": "code",
      "execution_count": null,
      "metadata": {
        "id": "EvaqgHFCYsMP"
      },
      "outputs": [],
      "source": [
        "# create output path\n",
        "output_path = '/content/yolov5'\n",
        "# create train, val folders in data directory of YOLOv5\n",
        "train_dir = output_path + '/data/train'\n",
        "val_dir = output_path + '/data/valid'\n",
        "\n",
        "if os.path.exists(train_dir): shutil.rmtree(train_dir)\n",
        "if os.path.exists(val_dir): shutil.rmtree(val_dir)\n",
        "\n",
        "os.mkdir(train_dir)\n",
        "os.mkdir(val_dir)\n",
        "\n",
        "# train, val each containing images and labels folders\n",
        "os.mkdir(train_dir + '/images')\n",
        "os.mkdir(train_dir + '/labels')\n",
        "os.mkdir(val_dir + '/images')\n",
        "os.mkdir(val_dir + '/labels')"
      ]
    },
    {
      "cell_type": "code",
      "execution_count": null,
      "metadata": {
        "id": "qKCimG6saZQT"
      },
      "outputs": [],
      "source": [
        "## copy traffic light images and labels to train and val folders\n",
        "input_path = '/content/drive/MyDrive/TrafficLightDetection/dataset'\n",
        "\n",
        "images_train_path = input_path + '/train/images'\n",
        "labels_train_path = input_path + '/train/labels'\n",
        "\n",
        "images_val_path = input_path + '/valid/images'\n",
        "labels_val_path = input_path + '/valid/labels'\n",
        "\n",
        "for file in os.listdir(images_train_path):\n",
        "  shutil.copy(images_train_path + '/' + file, train_dir + '/images')\n",
        "\n",
        "for file in os.listdir(labels_train_path):\n",
        "  shutil.copy(labels_train_path + '/' + file, train_dir + '/labels')\n",
        "\n",
        "for file in os.listdir(images_val_path):\n",
        "  shutil.copy(images_val_path + '/' + file, val_dir + '/images')\n",
        "\n",
        "for file in os.listdir(labels_val_path):\n",
        "  shutil.copy(labels_val_path + '/' + file, val_dir + '/labels')"
      ]
    },
    {
      "cell_type": "code",
      "source": [
        "# cd ../drive/MyDrive/TrafficLightDetection/"
      ],
      "metadata": {
        "id": "tZJAUph3yqpN"
      },
      "execution_count": null,
      "outputs": []
    },
    {
      "cell_type": "code",
      "source": [
        "# ## Because of the different datasets, we need to relabel the data.\n",
        "# import os\n",
        "\n",
        "# def changefile(path):\n",
        "#     with open(path, 'r') as file:\n",
        "#         content = file.readlines()\n",
        "#     newcontent = []\n",
        "#     for c in content:\n",
        "#         newidx = int(c[0:1]) + 14\n",
        "#         c = str(newidx) + c[1:]\n",
        "#         newcontent.append(c)\n",
        "#     with open(path, 'w') as file:\n",
        "#         file.writelines(newcontent)\n",
        "\n",
        "# path = os.getcwd() + '/signdataset/labels'\n",
        "# for file in os.listdir(path + '/train'):\n",
        "#     changefile(path + '/train/' + file)\n",
        "\n",
        "# for file in os.listdir(path + '/val'):\n",
        "#     changefile(path + '/val/' + file)"
      ],
      "metadata": {
        "id": "_2wUfPc3yST-"
      },
      "execution_count": null,
      "outputs": []
    },
    {
      "cell_type": "code",
      "source": [
        "## copy sign images and labels to train and val folders\n",
        "sign_input_path = '/content/drive/MyDrive/TrafficLightDetection/signdataset'\n",
        "\n",
        "sign_images_train_path = sign_input_path + '/images/train'\n",
        "sign_labels_train_path = sign_input_path + '/labels/train'\n",
        "\n",
        "sign_images_val_path = sign_input_path + '/images/val'\n",
        "sign_labels_val_path = sign_input_path + '/labels/val'\n",
        "\n",
        "for file in os.listdir(sign_images_train_path):\n",
        "  shutil.copy(sign_images_train_path + '/' + file, train_dir + '/images')\n",
        "\n",
        "for file in os.listdir(sign_labels_train_path):\n",
        "  shutil.copy(sign_labels_train_path + '/' + file, train_dir + '/labels')\n",
        "\n",
        "for file in os.listdir(sign_images_val_path):\n",
        "  shutil.copy(sign_images_val_path + '/' + file, val_dir + '/images')\n",
        "\n",
        "for file in os.listdir(sign_labels_val_path):\n",
        "  shutil.copy(sign_labels_val_path + '/' + file, val_dir + '/labels')"
      ],
      "metadata": {
        "id": "MOnyyEbpfEte"
      },
      "execution_count": null,
      "outputs": []
    },
    {
      "cell_type": "code",
      "execution_count": null,
      "metadata": {
        "id": "gG3KNwDEdJgn"
      },
      "outputs": [],
      "source": [
        "classes = ['Green Light', 'Red Light', 'Speed Limit 10', 'Speed Limit 100', 'Speed Limit 110', 'Speed Limit 120', 'Speed Limit 20', 'Speed Limit 30', 'Speed Limit 40', 'Speed Limit 50', 'Speed Limit 60', 'Speed Limit 70', 'Speed Limit 80', 'Speed Limit 90', 'Stop', 'No pedestrian crossing', 'No parking', 'Parking', 'Give way', 'One way', 'No left turn', 'Speed limit', 'Bus lane', 'Pedestrian crossing']\n",
        "with open(f'{output_path}/data/data.yaml', 'w') as f:\n",
        "  f.write('train: ./data/train/images\\n')\n",
        "  f.write('val: ./data/valid/images\\n')\n",
        "  f.write('nc: 24\\n')\n",
        "  f.write(f'names: {classes}')"
      ]
    },
    {
      "cell_type": "code",
      "execution_count": null,
      "metadata": {
        "colab": {
          "base_uri": "https://localhost:8080/"
        },
        "id": "a-dmuPMSdiQz",
        "outputId": "a56d414a-1dd3-42de-cd8e-019a213a3395"
      },
      "outputs": [
        {
          "output_type": "stream",
          "name": "stdout",
          "text": [
            "2024-04-27 05:36:11.914093: E external/local_xla/xla/stream_executor/cuda/cuda_dnn.cc:9261] Unable to register cuDNN factory: Attempting to register factory for plugin cuDNN when one has already been registered\n",
            "2024-04-27 05:36:11.914142: E external/local_xla/xla/stream_executor/cuda/cuda_fft.cc:607] Unable to register cuFFT factory: Attempting to register factory for plugin cuFFT when one has already been registered\n",
            "2024-04-27 05:36:12.023563: E external/local_xla/xla/stream_executor/cuda/cuda_blas.cc:1515] Unable to register cuBLAS factory: Attempting to register factory for plugin cuBLAS when one has already been registered\n",
            "\u001b[34m\u001b[1mtrain: \u001b[0mweights=yolov5s.pt, cfg=, data=data.yaml, hyp=data/hyps/hyp.scratch-low.yaml, epochs=20, batch_size=16, imgsz=640, rect=False, resume=False, nosave=False, noval=False, noautoanchor=False, noplots=False, evolve=None, evolve_population=data/hyps, resume_evolve=None, bucket=, cache=None, image_weights=False, device=, multi_scale=False, single_cls=False, optimizer=SGD, sync_bn=False, workers=8, project=runs/train, name=exp, exist_ok=False, quad=False, cos_lr=False, label_smoothing=0.0, patience=100, freeze=[0], save_period=-1, seed=0, local_rank=-1, entity=None, upload_dataset=False, bbox_interval=-1, artifact_alias=latest, ndjson_console=False, ndjson_file=False\n",
            "\u001b[34m\u001b[1mgithub: \u001b[0mup to date with https://github.com/ultralytics/yolov5 ✅\n",
            "YOLOv5 🚀 v7.0-304-g22361691 Python-3.10.12 torch-2.2.1+cu121 CUDA:0 (Tesla T4, 15102MiB)\n",
            "\n",
            "\u001b[34m\u001b[1mhyperparameters: \u001b[0mlr0=0.01, lrf=0.01, momentum=0.937, weight_decay=0.0005, warmup_epochs=3.0, warmup_momentum=0.8, warmup_bias_lr=0.1, box=0.05, cls=0.5, cls_pw=1.0, obj=1.0, obj_pw=1.0, iou_t=0.2, anchor_t=4.0, fl_gamma=0.0, hsv_h=0.015, hsv_s=0.7, hsv_v=0.4, degrees=0.0, translate=0.1, scale=0.5, shear=0.0, perspective=0.0, flipud=0.0, fliplr=0.5, mosaic=1.0, mixup=0.0, copy_paste=0.0\n",
            "\u001b[34m\u001b[1mComet: \u001b[0mrun 'pip install comet_ml' to automatically track and visualize YOLOv5 🚀 runs in Comet\n",
            "\u001b[34m\u001b[1mTensorBoard: \u001b[0mStart with 'tensorboard --logdir runs/train', view at http://localhost:6006/\n",
            "Downloading https://ultralytics.com/assets/Arial.ttf to /root/.config/Ultralytics/Arial.ttf...\n",
            "100% 755k/755k [00:00<00:00, 21.1MB/s]\n",
            "Downloading https://github.com/ultralytics/yolov5/releases/download/v7.0/yolov5s.pt to yolov5s.pt...\n",
            "100% 14.1M/14.1M [00:00<00:00, 152MB/s]\n",
            "\n",
            "Overriding model.yaml nc=80 with nc=24\n",
            "\n",
            "                 from  n    params  module                                  arguments                     \n",
            "  0                -1  1      3520  models.common.Conv                      [3, 32, 6, 2, 2]              \n",
            "  1                -1  1     18560  models.common.Conv                      [32, 64, 3, 2]                \n",
            "  2                -1  1     18816  models.common.C3                        [64, 64, 1]                   \n",
            "  3                -1  1     73984  models.common.Conv                      [64, 128, 3, 2]               \n",
            "  4                -1  2    115712  models.common.C3                        [128, 128, 2]                 \n",
            "  5                -1  1    295424  models.common.Conv                      [128, 256, 3, 2]              \n",
            "  6                -1  3    625152  models.common.C3                        [256, 256, 3]                 \n",
            "  7                -1  1   1180672  models.common.Conv                      [256, 512, 3, 2]              \n",
            "  8                -1  1   1182720  models.common.C3                        [512, 512, 1]                 \n",
            "  9                -1  1    656896  models.common.SPPF                      [512, 512, 5]                 \n",
            " 10                -1  1    131584  models.common.Conv                      [512, 256, 1, 1]              \n",
            " 11                -1  1         0  torch.nn.modules.upsampling.Upsample    [None, 2, 'nearest']          \n",
            " 12           [-1, 6]  1         0  models.common.Concat                    [1]                           \n",
            " 13                -1  1    361984  models.common.C3                        [512, 256, 1, False]          \n",
            " 14                -1  1     33024  models.common.Conv                      [256, 128, 1, 1]              \n",
            " 15                -1  1         0  torch.nn.modules.upsampling.Upsample    [None, 2, 'nearest']          \n",
            " 16           [-1, 4]  1         0  models.common.Concat                    [1]                           \n",
            " 17                -1  1     90880  models.common.C3                        [256, 128, 1, False]          \n",
            " 18                -1  1    147712  models.common.Conv                      [128, 128, 3, 2]              \n",
            " 19          [-1, 14]  1         0  models.common.Concat                    [1]                           \n",
            " 20                -1  1    296448  models.common.C3                        [256, 256, 1, False]          \n",
            " 21                -1  1    590336  models.common.Conv                      [256, 256, 3, 2]              \n",
            " 22          [-1, 10]  1         0  models.common.Concat                    [1]                           \n",
            " 23                -1  1   1182720  models.common.C3                        [512, 512, 1, False]          \n",
            " 24      [17, 20, 23]  1     78213  models.yolo.Detect                      [24, [[10, 13, 16, 30, 33, 23], [30, 61, 62, 45, 59, 119], [116, 90, 156, 198, 373, 326]], [128, 256, 512]]\n",
            "Model summary: 214 layers, 7084357 parameters, 7084357 gradients, 16.1 GFLOPs\n",
            "\n",
            "Transferred 343/349 items from yolov5s.pt\n",
            "\u001b[34m\u001b[1mAMP: \u001b[0mchecks passed ✅\n",
            "\u001b[34m\u001b[1moptimizer:\u001b[0m SGD(lr=0.01) with parameter groups 57 weight(decay=0.0), 60 weight(decay=0.0005), 60 bias\n",
            "\u001b[34m\u001b[1malbumentations: \u001b[0mBlur(p=0.01, blur_limit=(3, 7)), MedianBlur(p=0.01, blur_limit=(3, 7)), ToGray(p=0.01), CLAHE(p=0.01, clip_limit=(1, 4.0), tile_grid_size=(8, 8))\n",
            "/usr/lib/python3.10/multiprocessing/popen_fork.py:66: RuntimeWarning: os.fork() was called. os.fork() is incompatible with multithreaded code, and JAX is multithreaded, so this will likely lead to a deadlock.\n",
            "  self.pid = os.fork()\n",
            "\u001b[34m\u001b[1mtrain: \u001b[0mScanning /content/yolov5/data/train/labels... 4557 images, 3 backgrounds, 0 corrupt: 100% 4557/4557 [00:03<00:00, 1503.39it/s]\n",
            "\u001b[34m\u001b[1mtrain: \u001b[0mWARNING ⚠️ /content/yolov5/data/train/images/1531.jpg: corrupt JPEG restored and saved\n",
            "\u001b[34m\u001b[1mtrain: \u001b[0mNew cache created: /content/yolov5/data/train/labels.cache\n",
            "\u001b[34m\u001b[1mval: \u001b[0mScanning /content/yolov5/data/valid/labels... 1020 images, 0 backgrounds, 0 corrupt: 100% 1020/1020 [00:01<00:00, 567.86it/s]\n",
            "\u001b[34m\u001b[1mval: \u001b[0mNew cache created: /content/yolov5/data/valid/labels.cache\n",
            "\n",
            "\u001b[34m\u001b[1mAutoAnchor: \u001b[0m3.63 anchors/target, 0.990 Best Possible Recall (BPR). Current anchors are a good fit to dataset ✅\n",
            "Plotting labels to runs/train/exp/labels.jpg... \n",
            "Image sizes 640 train, 640 val\n",
            "Using 2 dataloader workers\n",
            "Logging results to \u001b[1mruns/train/exp\u001b[0m\n",
            "Starting training for 20 epochs...\n",
            "\n",
            "      Epoch    GPU_mem   box_loss   obj_loss   cls_loss  Instances       Size\n",
            "       0/19      3.52G    0.09962    0.02478     0.0829         35        640:  36% 102/285 [01:17<01:54,  1.60it/s]Corrupt JPEG data: 730 extraneous bytes before marker 0xd9\n",
            "       0/19      3.52G    0.08998    0.02437    0.08096         39        640:  50% 143/285 [01:50<01:46,  1.34it/s]Corrupt JPEG data: 730 extraneous bytes before marker 0xd9\n",
            "       0/19      3.52G    0.07279    0.02202    0.07676         34        640:  99% 281/285 [03:33<00:03,  1.20it/s]Corrupt JPEG data: 730 extraneous bytes before marker 0xd9\n",
            "       0/19      3.52G    0.07246    0.02196    0.07667         27        640: 100% 285/285 [03:36<00:00,  1.31it/s]\n",
            "                 Class     Images  Instances          P          R      mAP50   mAP50-95:  84% 27/32 [00:15<00:02,  2.47it/s]Corrupt JPEG data: 730 extraneous bytes before marker 0xd9\n",
            "                 Class     Images  Instances          P          R      mAP50   mAP50-95: 100% 32/32 [00:19<00:00,  1.62it/s]\n",
            "                   all       1020       1232      0.446      0.194     0.0778     0.0446\n",
            "\n",
            "      Epoch    GPU_mem   box_loss   obj_loss   cls_loss  Instances       Size\n",
            "       1/19      4.33G    0.04802    0.01671    0.06879         37        640:  29% 82/285 [01:04<03:03,  1.11it/s]Corrupt JPEG data: 730 extraneous bytes before marker 0xd9\n",
            "       1/19      4.33G    0.04704    0.01581    0.06765         29        640:  54% 154/285 [01:54<01:12,  1.79it/s]Corrupt JPEG data: 730 extraneous bytes before marker 0xd9\n",
            "       1/19      4.33G    0.04677    0.01564    0.06735         40        640:  61% 175/285 [02:09<01:03,  1.73it/s]Corrupt JPEG data: 730 extraneous bytes before marker 0xd9\n",
            "       1/19      4.33G     0.0464    0.01505    0.06615         21        640:  86% 244/285 [03:01<00:27,  1.47it/s]Corrupt JPEG data: 730 extraneous bytes before marker 0xd9\n",
            "       1/19      4.33G    0.04634      0.015    0.06588         39        640:  92% 261/285 [03:16<00:31,  1.33s/it]Corrupt JPEG data: 730 extraneous bytes before marker 0xd9\n",
            "       1/19      4.33G    0.04627    0.01483    0.06535         30        640: 100% 285/285 [03:34<00:00,  1.33it/s]\n",
            "                 Class     Images  Instances          P          R      mAP50   mAP50-95:  84% 27/32 [00:15<00:02,  2.46it/s]Corrupt JPEG data: 730 extraneous bytes before marker 0xd9\n",
            "                 Class     Images  Instances          P          R      mAP50   mAP50-95: 100% 32/32 [00:18<00:00,  1.69it/s]\n",
            "                   all       1020       1232      0.405      0.319      0.197      0.101\n",
            "\n",
            "      Epoch    GPU_mem   box_loss   obj_loss   cls_loss  Instances       Size\n",
            "       2/19      4.33G    0.04432    0.01236    0.06006         35        640:  14% 39/285 [00:30<03:22,  1.22it/s]Corrupt JPEG data: 730 extraneous bytes before marker 0xd9\n",
            "       2/19      4.33G    0.04427    0.01247    0.05997         42        640:  15% 44/285 [00:35<03:24,  1.18it/s]Corrupt JPEG data: 730 extraneous bytes before marker 0xd9\n",
            "       2/19      4.33G    0.04439    0.01239    0.05993         40        640:  22% 63/285 [00:48<03:17,  1.12it/s]Corrupt JPEG data: 730 extraneous bytes before marker 0xd9\n",
            "       2/19      4.33G    0.04418    0.01236    0.05937         39        640:  28% 79/285 [01:00<02:58,  1.15it/s]Corrupt JPEG data: 730 extraneous bytes before marker 0xd9\n",
            "       2/19      4.33G    0.04417    0.01142    0.05581         31        640: 100% 285/285 [03:33<00:00,  1.33it/s]\n",
            "                 Class     Images  Instances          P          R      mAP50   mAP50-95:  84% 27/32 [00:14<00:02,  2.45it/s]Corrupt JPEG data: 730 extraneous bytes before marker 0xd9\n",
            "                 Class     Images  Instances          P          R      mAP50   mAP50-95: 100% 32/32 [00:17<00:00,  1.79it/s]\n",
            "                   all       1020       1232      0.274      0.402      0.323      0.188\n",
            "\n",
            "      Epoch    GPU_mem   box_loss   obj_loss   cls_loss  Instances       Size\n",
            "       3/19      4.33G    0.04151   0.009833    0.04954         44        640:  10% 29/285 [00:22<02:51,  1.50it/s]Corrupt JPEG data: 730 extraneous bytes before marker 0xd9\n",
            "       3/19      4.33G    0.04167   0.009991    0.04908         29        640:  40% 115/285 [01:24<01:27,  1.95it/s]Corrupt JPEG data: 730 extraneous bytes before marker 0xd9\n",
            "       3/19      4.33G    0.04146   0.009967    0.04904         41        640:  47% 133/285 [01:39<01:41,  1.50it/s]Corrupt JPEG data: 730 extraneous bytes before marker 0xd9\n",
            "       3/19      4.33G    0.04089   0.009916    0.04786         44        640:  68% 194/285 [02:24<00:51,  1.78it/s]Corrupt JPEG data: 730 extraneous bytes before marker 0xd9\n",
            "       3/19      4.33G    0.04028   0.009865    0.04696         29        640: 100% 285/285 [03:36<00:00,  1.31it/s]\n",
            "                 Class     Images  Instances          P          R      mAP50   mAP50-95:  84% 27/32 [00:15<00:02,  2.46it/s]Corrupt JPEG data: 730 extraneous bytes before marker 0xd9\n",
            "                 Class     Images  Instances          P          R      mAP50   mAP50-95: 100% 32/32 [00:19<00:00,  1.66it/s]\n",
            "                   all       1020       1232      0.436      0.512      0.423      0.246\n",
            "\n",
            "      Epoch    GPU_mem   box_loss   obj_loss   cls_loss  Instances       Size\n",
            "       4/19      4.33G    0.03804   0.009661    0.04358         33        640:  40% 115/285 [01:22<01:31,  1.85it/s]Corrupt JPEG data: 730 extraneous bytes before marker 0xd9\n",
            "       4/19      4.33G    0.03788   0.009621    0.04329         34        640:  46% 130/285 [01:33<01:27,  1.76it/s]Corrupt JPEG data: 730 extraneous bytes before marker 0xd9\n",
            "       4/19      4.33G    0.03729   0.009413     0.0422         38        640: 100% 285/285 [03:32<00:00,  1.34it/s]\n",
            "                 Class     Images  Instances          P          R      mAP50   mAP50-95:  84% 27/32 [00:15<00:01,  2.51it/s]Corrupt JPEG data: 730 extraneous bytes before marker 0xd9\n",
            "                 Class     Images  Instances          P          R      mAP50   mAP50-95: 100% 32/32 [00:20<00:00,  1.54it/s]\n",
            "                   all       1020       1232      0.704      0.431      0.478      0.291\n",
            "\n",
            "      Epoch    GPU_mem   box_loss   obj_loss   cls_loss  Instances       Size\n",
            "       5/19      4.33G    0.03483   0.008911     0.0389         29        640:  51% 145/285 [01:47<01:25,  1.63it/s]Corrupt JPEG data: 730 extraneous bytes before marker 0xd9\n",
            "       5/19      4.33G    0.03482   0.008877    0.03893         41        640:  52% 149/285 [01:49<01:12,  1.89it/s]Corrupt JPEG data: 730 extraneous bytes before marker 0xd9\n",
            "       5/19      4.33G     0.0348   0.008949    0.03872         47        640:  71% 201/285 [02:26<00:50,  1.65it/s]Corrupt JPEG data: 730 extraneous bytes before marker 0xd9\n",
            "       5/19      4.33G    0.03468    0.00883    0.03787         19        640: 100% 285/285 [03:28<00:00,  1.37it/s]\n",
            "                 Class     Images  Instances          P          R      mAP50   mAP50-95:  84% 27/32 [00:17<00:02,  2.49it/s]Corrupt JPEG data: 730 extraneous bytes before marker 0xd9\n",
            "                 Class     Images  Instances          P          R      mAP50   mAP50-95: 100% 32/32 [00:21<00:00,  1.47it/s]\n",
            "                   all       1020       1232      0.505      0.593      0.528       0.33\n",
            "\n",
            "      Epoch    GPU_mem   box_loss   obj_loss   cls_loss  Instances       Size\n",
            "       6/19      4.33G    0.03266   0.008504    0.03587         34        640:  54% 154/285 [01:55<02:03,  1.06it/s]Corrupt JPEG data: 730 extraneous bytes before marker 0xd9\n",
            "       6/19      4.33G    0.03276   0.008482    0.03559         42        640:  73% 208/285 [02:36<00:49,  1.57it/s]Corrupt JPEG data: 730 extraneous bytes before marker 0xd9\n",
            "       6/19      4.33G    0.03274   0.008428     0.0359         22        640: 100% 285/285 [03:31<00:00,  1.35it/s]\n",
            "                 Class     Images  Instances          P          R      mAP50   mAP50-95:  84% 27/32 [00:16<00:02,  2.33it/s]Corrupt JPEG data: 730 extraneous bytes before marker 0xd9\n",
            "                 Class     Images  Instances          P          R      mAP50   mAP50-95: 100% 32/32 [00:21<00:00,  1.47it/s]\n",
            "                   all       1020       1232      0.545      0.593      0.562      0.356\n",
            "\n",
            "      Epoch    GPU_mem   box_loss   obj_loss   cls_loss  Instances       Size\n",
            "       7/19      4.33G    0.03196    0.00812    0.03442         38        640:   8% 23/285 [00:16<02:42,  1.61it/s]Corrupt JPEG data: 730 extraneous bytes before marker 0xd9\n",
            "       7/19      4.33G    0.03182   0.008023    0.03503         38        640:  17% 48/285 [00:34<02:17,  1.72it/s]Corrupt JPEG data: 730 extraneous bytes before marker 0xd9\n",
            "       7/19      4.33G    0.03183   0.008291    0.03368         33        640:  84% 239/285 [02:57<00:27,  1.66it/s]Corrupt JPEG data: 730 extraneous bytes before marker 0xd9\n",
            "       7/19      4.33G    0.03174   0.008261    0.03361         31        640:  93% 265/285 [03:14<00:13,  1.53it/s]Corrupt JPEG data: 730 extraneous bytes before marker 0xd9\n",
            "       7/19      4.33G    0.03174   0.008245    0.03349         41        640: 100% 285/285 [03:30<00:00,  1.35it/s]\n",
            "                 Class     Images  Instances          P          R      mAP50   mAP50-95:  84% 27/32 [00:15<00:02,  2.48it/s]Corrupt JPEG data: 730 extraneous bytes before marker 0xd9\n",
            "                 Class     Images  Instances          P          R      mAP50   mAP50-95: 100% 32/32 [00:21<00:00,  1.50it/s]\n",
            "                   all       1020       1232      0.534      0.633      0.582      0.389\n",
            "\n",
            "      Epoch    GPU_mem   box_loss   obj_loss   cls_loss  Instances       Size\n",
            "       8/19      4.33G    0.03012   0.008025    0.03194         50        640:  75% 213/285 [02:40<01:19,  1.10s/it]Corrupt JPEG data: 730 extraneous bytes before marker 0xd9\n",
            "       8/19      4.33G    0.02991   0.008004    0.03189         23        640: 100% 285/285 [03:33<00:00,  1.33it/s]\n",
            "                 Class     Images  Instances          P          R      mAP50   mAP50-95:  84% 27/32 [00:15<00:02,  2.49it/s]Corrupt JPEG data: 730 extraneous bytes before marker 0xd9\n",
            "                 Class     Images  Instances          P          R      mAP50   mAP50-95: 100% 32/32 [00:19<00:00,  1.66it/s]\n",
            "                   all       1020       1232      0.543      0.677       0.63      0.419\n",
            "\n",
            "      Epoch    GPU_mem   box_loss   obj_loss   cls_loss  Instances       Size\n",
            "       9/19      4.33G    0.02903   0.007563    0.03092         34        640:  12% 33/285 [00:24<03:17,  1.28it/s]Corrupt JPEG data: 730 extraneous bytes before marker 0xd9\n",
            "       9/19      4.33G    0.02905   0.007721    0.03117         29        640:  22% 62/285 [00:46<02:08,  1.74it/s]Corrupt JPEG data: 730 extraneous bytes before marker 0xd9\n",
            "       9/19      4.33G    0.02906   0.007796     0.0302         43        640:  37% 105/285 [01:17<01:42,  1.75it/s]Corrupt JPEG data: 730 extraneous bytes before marker 0xd9\n",
            "       9/19      4.33G    0.02892   0.007781     0.0301         48        640:  51% 144/285 [01:49<01:19,  1.77it/s]Corrupt JPEG data: 730 extraneous bytes before marker 0xd9\n",
            "       9/19      4.33G    0.02906   0.007833    0.02995         42        640:  82% 233/285 [02:54<00:37,  1.39it/s]Corrupt JPEG data: 730 extraneous bytes before marker 0xd9\n",
            "       9/19      4.33G    0.02906   0.007824    0.02996         30        640:  82% 234/285 [02:56<00:59,  1.16s/it]Corrupt JPEG data: 730 extraneous bytes before marker 0xd9\n",
            "       9/19      4.33G    0.02897   0.007824    0.03013         31        640: 100% 285/285 [03:34<00:00,  1.33it/s]\n",
            "                 Class     Images  Instances          P          R      mAP50   mAP50-95:  84% 27/32 [00:15<00:02,  2.48it/s]Corrupt JPEG data: 730 extraneous bytes before marker 0xd9\n",
            "                 Class     Images  Instances          P          R      mAP50   mAP50-95: 100% 32/32 [00:20<00:00,  1.53it/s]\n",
            "                   all       1020       1232      0.584      0.705       0.68      0.482\n",
            "\n",
            "      Epoch    GPU_mem   box_loss   obj_loss   cls_loss  Instances       Size\n",
            "      10/19      4.33G    0.02822   0.007604    0.03027         28        640:  21% 61/285 [00:47<02:28,  1.50it/s]Corrupt JPEG data: 730 extraneous bytes before marker 0xd9\n",
            "      10/19      4.33G    0.02782   0.007699    0.02878         35        640:  78% 223/285 [02:47<00:33,  1.87it/s]Corrupt JPEG data: 730 extraneous bytes before marker 0xd9\n",
            "      10/19      4.33G    0.02779   0.007695    0.02863         41        640:  83% 236/285 [02:56<00:35,  1.36it/s]Corrupt JPEG data: 730 extraneous bytes before marker 0xd9\n",
            "      10/19      4.33G    0.02777   0.007709    0.02843         34        640: 100% 285/285 [03:32<00:00,  1.34it/s]\n",
            "                 Class     Images  Instances          P          R      mAP50   mAP50-95:  84% 27/32 [00:15<00:02,  1.95it/s]Corrupt JPEG data: 730 extraneous bytes before marker 0xd9\n",
            "                 Class     Images  Instances          P          R      mAP50   mAP50-95: 100% 32/32 [00:20<00:00,  1.59it/s]\n",
            "                   all       1020       1232      0.619      0.723      0.734      0.532\n",
            "\n",
            "      Epoch    GPU_mem   box_loss   obj_loss   cls_loss  Instances       Size\n",
            "      11/19      4.33G    0.02863   0.007577    0.02625         32        640:  10% 28/285 [00:21<03:16,  1.31it/s]Corrupt JPEG data: 730 extraneous bytes before marker 0xd9\n",
            "      11/19      4.33G    0.02856   0.007444    0.02623         34        640:  12% 34/285 [00:26<03:01,  1.38it/s]Corrupt JPEG data: 730 extraneous bytes before marker 0xd9\n",
            "      11/19      4.33G    0.02835   0.007705    0.02651         33        640:  22% 64/285 [00:48<02:40,  1.38it/s]Corrupt JPEG data: 730 extraneous bytes before marker 0xd9\n",
            "      11/19      4.33G    0.02806   0.007745    0.02642         34        640:  28% 81/285 [01:00<01:53,  1.79it/s]Corrupt JPEG data: 730 extraneous bytes before marker 0xd9\n",
            "      11/19      4.33G    0.02775   0.007748    0.02669         37        640:  48% 137/285 [01:43<01:39,  1.48it/s]Corrupt JPEG data: 730 extraneous bytes before marker 0xd9\n",
            "      11/19      4.33G     0.0273   0.007638    0.02644         35        640: 100% 285/285 [03:31<00:00,  1.35it/s]\n",
            "                 Class     Images  Instances          P          R      mAP50   mAP50-95:  84% 27/32 [00:14<00:01,  2.50it/s]Corrupt JPEG data: 730 extraneous bytes before marker 0xd9\n",
            "                 Class     Images  Instances          P          R      mAP50   mAP50-95: 100% 32/32 [00:20<00:00,  1.59it/s]\n",
            "                   all       1020       1232      0.738      0.736      0.794       0.57\n",
            "\n",
            "      Epoch    GPU_mem   box_loss   obj_loss   cls_loss  Instances       Size\n",
            "      12/19      4.33G    0.02601   0.007256    0.02416         36        640:  28% 80/285 [01:01<02:02,  1.67it/s]Corrupt JPEG data: 730 extraneous bytes before marker 0xd9\n",
            "      12/19      4.33G    0.02617    0.00734    0.02446         30        640:  93% 264/285 [03:16<00:11,  1.88it/s]Corrupt JPEG data: 730 extraneous bytes before marker 0xd9\n",
            "      12/19      4.33G    0.02615   0.007362    0.02434         39        640:  99% 281/285 [03:29<00:02,  1.59it/s]Corrupt JPEG data: 730 extraneous bytes before marker 0xd9\n",
            "      12/19      4.33G    0.02617   0.007349    0.02432         33        640: 100% 285/285 [03:33<00:00,  1.34it/s]\n",
            "                 Class     Images  Instances          P          R      mAP50   mAP50-95:  84% 27/32 [00:16<00:02,  2.03it/s]Corrupt JPEG data: 730 extraneous bytes before marker 0xd9\n",
            "                 Class     Images  Instances          P          R      mAP50   mAP50-95: 100% 32/32 [00:21<00:00,  1.48it/s]\n",
            "                   all       1020       1232      0.726      0.761      0.803      0.605\n",
            "\n",
            "      Epoch    GPU_mem   box_loss   obj_loss   cls_loss  Instances       Size\n",
            "      13/19      4.33G    0.02568   0.007203    0.02381         32        640:  12% 33/285 [00:24<03:06,  1.35it/s]Corrupt JPEG data: 730 extraneous bytes before marker 0xd9\n",
            "      13/19      4.33G    0.02507   0.007248    0.02258         46        640:  91% 259/285 [03:12<00:15,  1.67it/s]Corrupt JPEG data: 730 extraneous bytes before marker 0xd9\n",
            "      13/19      4.33G    0.02509   0.007246    0.02244         38        640:  99% 281/285 [03:28<00:02,  1.89it/s]Corrupt JPEG data: 730 extraneous bytes before marker 0xd9\n",
            "      13/19      4.33G     0.0251   0.007244    0.02235         28        640: 100% 285/285 [03:30<00:00,  1.35it/s]\n",
            "                 Class     Images  Instances          P          R      mAP50   mAP50-95:  84% 27/32 [00:16<00:02,  2.20it/s]Corrupt JPEG data: 730 extraneous bytes before marker 0xd9\n",
            "                 Class     Images  Instances          P          R      mAP50   mAP50-95: 100% 32/32 [00:21<00:00,  1.49it/s]\n",
            "                   all       1020       1232      0.777      0.816      0.845       0.65\n",
            "\n",
            "      Epoch    GPU_mem   box_loss   obj_loss   cls_loss  Instances       Size\n",
            "      14/19      4.33G    0.02504   0.007072    0.02036         39        640:   8% 23/285 [00:18<03:06,  1.41it/s]Corrupt JPEG data: 730 extraneous bytes before marker 0xd9\n",
            "      14/19      4.33G    0.02466   0.007224    0.02112         38        640:  21% 61/285 [00:45<02:08,  1.74it/s]Corrupt JPEG data: 730 extraneous bytes before marker 0xd9\n",
            "      14/19      4.33G    0.02455   0.007274     0.0216         47        640:  35% 101/285 [01:15<03:03,  1.00it/s]Corrupt JPEG data: 730 extraneous bytes before marker 0xd9\n",
            "      14/19      4.33G    0.02458   0.007162    0.02147         36        640:  51% 145/285 [01:48<01:40,  1.39it/s]Corrupt JPEG data: 730 extraneous bytes before marker 0xd9\n",
            "      14/19      4.33G    0.02466   0.007145    0.02119         39        640:  67% 192/285 [02:23<01:06,  1.39it/s]Corrupt JPEG data: 730 extraneous bytes before marker 0xd9\n",
            "      14/19      4.33G    0.02468   0.007155    0.02121         35        640:  76% 218/285 [02:42<00:39,  1.70it/s]Corrupt JPEG data: 730 extraneous bytes before marker 0xd9\n",
            "      14/19      4.33G     0.0247   0.007141    0.02111         33        640:  79% 226/285 [02:48<00:35,  1.67it/s]Corrupt JPEG data: 730 extraneous bytes before marker 0xd9\n",
            "      14/19      4.33G    0.02466   0.007146    0.02112         47        640:  81% 231/285 [02:54<00:57,  1.06s/it]Corrupt JPEG data: 730 extraneous bytes before marker 0xd9\n",
            "      14/19      4.33G    0.02459   0.007141    0.02072         36        640: 100% 285/285 [03:31<00:00,  1.35it/s]\n",
            "                 Class     Images  Instances          P          R      mAP50   mAP50-95:  84% 27/32 [00:16<00:02,  1.98it/s]Corrupt JPEG data: 730 extraneous bytes before marker 0xd9\n",
            "                 Class     Images  Instances          P          R      mAP50   mAP50-95: 100% 32/32 [00:21<00:00,  1.52it/s]\n",
            "                   all       1020       1232      0.823      0.811      0.871      0.657\n",
            "\n",
            "      Epoch    GPU_mem   box_loss   obj_loss   cls_loss  Instances       Size\n",
            "      15/19      4.33G    0.02361   0.006918    0.01924         38        640:  54% 155/285 [02:01<01:33,  1.38it/s]Corrupt JPEG data: 730 extraneous bytes before marker 0xd9\n",
            "      15/19      4.33G    0.02362   0.006874    0.01961         44        640:  76% 217/285 [02:47<00:35,  1.93it/s]Corrupt JPEG data: 730 extraneous bytes before marker 0xd9\n",
            "      15/19      4.33G    0.02362   0.006893    0.01962         36        640:  83% 236/285 [03:03<00:38,  1.28it/s]Corrupt JPEG data: 730 extraneous bytes before marker 0xd9\n",
            "      15/19      4.33G    0.02353   0.006879    0.01949         32        640: 100% 285/285 [03:42<00:00,  1.28it/s]\n",
            "                 Class     Images  Instances          P          R      mAP50   mAP50-95:  84% 27/32 [00:14<00:02,  2.40it/s]Corrupt JPEG data: 730 extraneous bytes before marker 0xd9\n",
            "                 Class     Images  Instances          P          R      mAP50   mAP50-95: 100% 32/32 [00:17<00:00,  1.78it/s]\n",
            "                   all       1020       1232      0.809      0.851       0.89      0.687\n",
            "\n",
            "      Epoch    GPU_mem   box_loss   obj_loss   cls_loss  Instances       Size\n",
            "      16/19      4.33G    0.02309   0.006499    0.01857         39        640:   8% 24/285 [00:18<02:54,  1.49it/s]Corrupt JPEG data: 730 extraneous bytes before marker 0xd9\n",
            "      16/19      4.33G    0.02287   0.006572    0.01862         37        640:  10% 28/285 [00:22<03:29,  1.23it/s]Corrupt JPEG data: 730 extraneous bytes before marker 0xd9\n",
            "      16/19      4.33G    0.02287    0.00691    0.01871         37        640:  26% 73/285 [00:55<02:09,  1.64it/s]Corrupt JPEG data: 730 extraneous bytes before marker 0xd9\n",
            "      16/19      4.33G    0.02266   0.006775    0.01801         34        640:  98% 280/285 [03:37<00:03,  1.61it/s]Corrupt JPEG data: 730 extraneous bytes before marker 0xd9\n",
            "      16/19      4.33G    0.02273   0.006793    0.01795         38        640: 100% 285/285 [03:40<00:00,  1.29it/s]\n",
            "                 Class     Images  Instances          P          R      mAP50   mAP50-95:  84% 27/32 [00:16<00:02,  2.15it/s]Corrupt JPEG data: 730 extraneous bytes before marker 0xd9\n",
            "                 Class     Images  Instances          P          R      mAP50   mAP50-95: 100% 32/32 [00:21<00:00,  1.50it/s]\n",
            "                   all       1020       1232      0.818      0.853        0.9      0.698\n",
            "\n",
            "      Epoch    GPU_mem   box_loss   obj_loss   cls_loss  Instances       Size\n",
            "      17/19      4.33G    0.02212   0.006929     0.0173         27        640:  19% 54/285 [00:41<03:01,  1.27it/s]Corrupt JPEG data: 730 extraneous bytes before marker 0xd9\n",
            "      17/19      4.33G    0.02199   0.006812     0.0168         37        640:  80% 227/285 [02:53<01:02,  1.08s/it]Corrupt JPEG data: 730 extraneous bytes before marker 0xd9\n",
            "      17/19      4.33G    0.02197   0.006784    0.01667         41        640:  88% 250/285 [03:12<00:33,  1.06it/s]Corrupt JPEG data: 730 extraneous bytes before marker 0xd9\n",
            "      17/19      4.33G    0.02195   0.006781    0.01667         27        640: 100% 285/285 [03:39<00:00,  1.30it/s]\n",
            "                 Class     Images  Instances          P          R      mAP50   mAP50-95:  84% 27/32 [00:15<00:02,  2.17it/s]Corrupt JPEG data: 730 extraneous bytes before marker 0xd9\n",
            "                 Class     Images  Instances          P          R      mAP50   mAP50-95: 100% 32/32 [00:19<00:00,  1.67it/s]\n",
            "                   all       1020       1232      0.842      0.862       0.91      0.714\n",
            "\n",
            "      Epoch    GPU_mem   box_loss   obj_loss   cls_loss  Instances       Size\n",
            "      18/19      4.33G    0.02114   0.006426    0.01581         33        640:  52% 147/285 [01:51<01:39,  1.38it/s]Corrupt JPEG data: 730 extraneous bytes before marker 0xd9\n",
            "      18/19      4.33G    0.02093   0.006454    0.01564         30        640:  87% 249/285 [03:10<00:23,  1.50it/s]Corrupt JPEG data: 730 extraneous bytes before marker 0xd9\n",
            "      18/19      4.33G    0.02094   0.006414    0.01543         32        640:  97% 276/285 [03:30<00:06,  1.44it/s]Corrupt JPEG data: 730 extraneous bytes before marker 0xd9\n",
            "      18/19      4.33G    0.02088   0.006396    0.01547         28        640: 100% 285/285 [03:37<00:00,  1.31it/s]\n",
            "                 Class     Images  Instances          P          R      mAP50   mAP50-95:  84% 27/32 [00:15<00:02,  2.48it/s]Corrupt JPEG data: 730 extraneous bytes before marker 0xd9\n",
            "                 Class     Images  Instances          P          R      mAP50   mAP50-95: 100% 32/32 [00:18<00:00,  1.71it/s]\n",
            "                   all       1020       1232      0.862      0.869      0.922       0.73\n",
            "\n",
            "      Epoch    GPU_mem   box_loss   obj_loss   cls_loss  Instances       Size\n",
            "      19/19      4.33G    0.02108   0.006232    0.01624         38        640:   5% 13/285 [00:09<02:42,  1.68it/s]Corrupt JPEG data: 730 extraneous bytes before marker 0xd9\n",
            "      19/19      4.33G    0.02054   0.006486    0.01594         31        640:  16% 47/285 [00:35<02:38,  1.50it/s]Corrupt JPEG data: 730 extraneous bytes before marker 0xd9\n",
            "      19/19      4.33G    0.02054   0.006574    0.01656         28        640:  29% 82/285 [01:01<01:42,  1.98it/s]Corrupt JPEG data: 730 extraneous bytes before marker 0xd9\n",
            "      19/19      4.33G    0.02055   0.006571    0.01615         30        640:  41% 117/285 [01:29<01:57,  1.43it/s]Corrupt JPEG data: 730 extraneous bytes before marker 0xd9\n",
            "      19/19      4.33G    0.02041   0.006614    0.01583         35        640:  60% 170/285 [02:09<01:13,  1.57it/s]Corrupt JPEG data: 730 extraneous bytes before marker 0xd9\n",
            "      19/19      4.33G    0.02042   0.006648    0.01577         30        640:  65% 185/285 [02:21<01:23,  1.20it/s]Corrupt JPEG data: 730 extraneous bytes before marker 0xd9\n",
            "      19/19      4.33G    0.02038   0.006644    0.01563         41        640:  69% 196/285 [02:27<00:44,  1.98it/s]Corrupt JPEG data: 730 extraneous bytes before marker 0xd9\n",
            "      19/19      4.33G    0.02035   0.006533    0.01546         35        640:  93% 266/285 [03:19<00:14,  1.33it/s]Corrupt JPEG data: 730 extraneous bytes before marker 0xd9\n",
            "      19/19      4.33G    0.02031   0.006519     0.0154         37        640:  98% 278/285 [03:27<00:03,  1.76it/s]Corrupt JPEG data: 730 extraneous bytes before marker 0xd9\n",
            "      19/19      4.33G    0.02027   0.006509    0.01543         34        640: 100% 285/285 [03:35<00:00,  1.32it/s]\n",
            "                 Class     Images  Instances          P          R      mAP50   mAP50-95:  84% 27/32 [00:14<00:02,  2.44it/s]Corrupt JPEG data: 730 extraneous bytes before marker 0xd9\n",
            "                 Class     Images  Instances          P          R      mAP50   mAP50-95: 100% 32/32 [00:18<00:00,  1.72it/s]\n",
            "                   all       1020       1232      0.866      0.868       0.92      0.733\n",
            "\n",
            "20 epochs completed in 1.313 hours.\n",
            "Optimizer stripped from runs/train/exp/weights/last.pt, 14.6MB\n",
            "Optimizer stripped from runs/train/exp/weights/best.pt, 14.6MB\n",
            "\n",
            "Validating runs/train/exp/weights/best.pt...\n",
            "Fusing layers... \n",
            "Model summary: 157 layers, 7074853 parameters, 0 gradients, 16.0 GFLOPs\n",
            "                 Class     Images  Instances          P          R      mAP50   mAP50-95:  84% 27/32 [00:17<00:02,  1.94it/s]Corrupt JPEG data: 730 extraneous bytes before marker 0xd9\n",
            "                 Class     Images  Instances          P          R      mAP50   mAP50-95: 100% 32/32 [00:21<00:00,  1.52it/s]\n",
            "                   all       1020       1232      0.866      0.868       0.92      0.733\n",
            "           Green Light       1020        122       0.87      0.836      0.873      0.466\n",
            "             Red Light       1020        108      0.802      0.827      0.812      0.469\n",
            "       Speed Limit 100       1020         52      0.861      0.923      0.969      0.846\n",
            "       Speed Limit 110       1020         17      0.642      0.765      0.833      0.706\n",
            "       Speed Limit 120       1020         60      0.964      0.881      0.974       0.86\n",
            "        Speed Limit 20       1020         56          1      0.907      0.984      0.813\n",
            "        Speed Limit 30       1020         74      0.894      0.932      0.953      0.863\n",
            "        Speed Limit 40       1020         55      0.836      0.927      0.967      0.857\n",
            "        Speed Limit 50       1020         71      0.915      0.758      0.889      0.771\n",
            "        Speed Limit 60       1020         76      0.957      0.874      0.947       0.82\n",
            "        Speed Limit 70       1020         78      0.958      0.962      0.978      0.873\n",
            "        Speed Limit 80       1020         56      0.894      0.839       0.94      0.816\n",
            "        Speed Limit 90       1020         38      0.846      0.723      0.861        0.6\n",
            "                  Stop       1020        122      0.976      0.984      0.995      0.895\n",
            "No pedestrian crossing       1020         27      0.857          1      0.991      0.931\n",
            "            No parking       1020         20      0.866       0.95      0.988      0.886\n",
            "               Parking       1020         25      0.768       0.96       0.97       0.84\n",
            "              Give way       1020         21      0.932          1      0.991      0.933\n",
            "               One way       1020         70      0.886        0.8      0.924      0.517\n",
            "          No left turn       1020         22      0.463      0.744      0.611      0.381\n",
            "           Speed limit       1020         21          1      0.594      0.866      0.541\n",
            "              Bus lane       1020         20      0.891      0.821      0.953       0.63\n",
            "   Pedestrian crossing       1020         21      0.847      0.952      0.881      0.552\n",
            "Results saved to \u001b[1mruns/train/exp\u001b[0m\n"
          ]
        }
      ],
      "source": [
        "epochs = 20\n",
        "!python train.py --img 640 --batch 16 --epochs {epochs} --data data.yaml --weights yolov5s.pt"
      ]
    },
    {
      "cell_type": "markdown",
      "metadata": {
        "id": "i_FtYOjmeNRe"
      },
      "source": [
        "### 3. Store weights and test"
      ]
    },
    {
      "cell_type": "code",
      "execution_count": null,
      "metadata": {
        "id": "CFNZVrJIr_Kb"
      },
      "outputs": [],
      "source": [
        "import shutil\n",
        "import os\n",
        "os.mkdir(\"/content/drive/MyDrive/TrafficLightDetection/weights\")\n",
        "shutil.copy('/content/yolov5/runs/train/exp/weights/best.pt', '/content/drive/MyDrive/TrafficLightDetection/weights')"
      ]
    },
    {
      "cell_type": "code",
      "execution_count": null,
      "metadata": {
        "colab": {
          "base_uri": "https://localhost:8080/"
        },
        "id": "Honnty-i2gOH",
        "outputId": "f27404d4-44cd-4ceb-9939-c6869c286fce"
      },
      "outputs": [
        {
          "name": "stdout",
          "output_type": "stream",
          "text": [
            "\u001b[34m\u001b[1mdetect: \u001b[0mweights=['/content/drive/MyDrive/TrafficLightDetection/best.pt'], source=/content/drive/MyDrive/TrafficLightDetection/test_images/test.jpg, data=data/coco128.yaml, imgsz=[416, 416], conf_thres=0.4, iou_thres=0.45, max_det=1000, device=, view_img=False, save_txt=False, save_csv=False, save_conf=False, save_crop=False, nosave=False, classes=None, agnostic_nms=False, augment=False, visualize=False, update=False, project=runs/detect, name=exp, exist_ok=False, line_thickness=3, hide_labels=False, hide_conf=False, half=False, dnn=False, vid_stride=1\n",
            "YOLOv5 🚀 v7.0-304-g22361691 Python-3.10.12 torch-2.2.1+cu121 CPU\n",
            "\n",
            "Fusing layers... \n",
            "Model summary: 157 layers, 7050580 parameters, 0 gradients, 15.9 GFLOPs\n",
            "image 1/1 /content/drive/MyDrive/TrafficLightDetection/test_images/test.jpg: 288x416 2 Red Lights, 217.7ms\n",
            "Speed: 1.5ms pre-process, 217.7ms inference, 31.9ms NMS per image at shape (1, 3, 416, 416)\n",
            "Results saved to \u001b[1mruns/detect/exp\u001b[0m\n"
          ]
        }
      ],
      "source": [
        "!python detect.py --weights /content/drive/MyDrive/TrafficLightDetection/best.pt --img 416 --conf 0.4 --source /content/drive/MyDrive/TrafficLightDetection/test_images/test.jpg"
      ]
    }
  ],
  "metadata": {
    "accelerator": "GPU",
    "colab": {
      "gpuType": "T4",
      "provenance": [],
      "include_colab_link": true
    },
    "kernelspec": {
      "display_name": "Python 3",
      "name": "python3"
    },
    "language_info": {
      "name": "python"
    }
  },
  "nbformat": 4,
  "nbformat_minor": 0
}