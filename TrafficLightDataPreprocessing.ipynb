{
  "cells": [
    {
      "cell_type": "markdown",
      "metadata": {
        "id": "view-in-github",
        "colab_type": "text"
      },
      "source": [
        "<a href=\"https://colab.research.google.com/github/Hoangnhat4869/TrafficLightDetection/blob/main/TrafficLightDataPreprocessing.ipynb\" target=\"_parent\"><img src=\"https://colab.research.google.com/assets/colab-badge.svg\" alt=\"Open In Colab\"/></a>"
      ]
    },
    {
      "cell_type": "code",
      "execution_count": null,
      "metadata": {
        "colab": {
          "base_uri": "https://localhost:8080/"
        },
        "id": "-Ne3Q2_3YETC",
        "outputId": "98982e33-4125-45e7-8b82-f5b70fd7a5c4"
      },
      "outputs": [
        {
          "output_type": "stream",
          "name": "stdout",
          "text": [
            "Mounted at /content/drive\n"
          ]
        }
      ],
      "source": [
        "from google.colab import drive\n",
        "drive.mount('/content/drive')"
      ]
    },
    {
      "cell_type": "markdown",
      "metadata": {
        "id": "NRusB9P164Ao"
      },
      "source": [
        "### 1. Load data and copy them to a new folder\n",
        "\n",
        "---\n",
        "\n"
      ]
    },
    {
      "cell_type": "code",
      "execution_count": null,
      "metadata": {
        "id": "XRh47gzn1v9z"
      },
      "outputs": [],
      "source": [
        "import os\n",
        "import shutil"
      ]
    },
    {
      "cell_type": "code",
      "source": [
        "# ## Because of the different datasets, we need to relabel the data.\n",
        "# import os\n",
        "\n",
        "# def changefile(path):\n",
        "#     with open(path, 'r') as file:\n",
        "#         content = file.readlines()\n",
        "#     newcontent = []\n",
        "#     for c in content:\n",
        "#         labelarr = c.split(' ')\n",
        "#         labelarr[0] = str(int(labelarr[0]) + 14)\n",
        "#         c = ' '.join(labelarr)\n",
        "#         newcontent.append(c)\n",
        "#     with open(path, 'w') as file:\n",
        "#         file.writelines(newcontent)\n",
        "\n",
        "# path = os.getcwd() + '/signdataset/labels'\n",
        "# for file in os.listdir(path + '/train'):\n",
        "#     changefile(path + '/train/' + file)\n",
        "\n",
        "# for file in os.listdir(path + '/val'):\n",
        "#     changefile(path + '/val/' + file)"
      ],
      "metadata": {
        "id": "smrh8zSGEsKI"
      },
      "execution_count": null,
      "outputs": []
    },
    {
      "cell_type": "code",
      "execution_count": null,
      "metadata": {
        "id": "EvaqgHFCYsMP"
      },
      "outputs": [],
      "source": [
        "dataset = '/content/drive/MyDrive/TrafficLightDetection/dataset'\n",
        "signdataset = '/content/drive/MyDrive/TrafficLightDetection/signdataset'\n",
        "newdata = '/content/drive/MyDrive/TrafficLightDetection/taolao'\n",
        "if not os.path.exists(newdata):\n",
        "  os.mkdir(newdata)\n",
        "train_path = newdata + '/train'\n",
        "val_path = newdata + '/valid'\n",
        "\n",
        "# data1_imgtrainpath = dataset + '/train/images'\n",
        "# data1_imgvalpath = dataset + '/valid/images'\n",
        "# data1_lbltrainpath = dataset + '/train/labels'\n",
        "# data1_lblvalpath = dataset + '/valid/labels'\n",
        "\n",
        "# data2_imgtrainpath = signdataset + '/images/train'\n",
        "# data2_imgvalpath = signdataset + '/images/val'\n",
        "# data2_lbltrainpath = signdataset + '/labels/train'\n",
        "# data2_lblvalpath = signdataset + '/labels/val'\n",
        "\n",
        "# if not os.path.exists(train_path):\n",
        "#   os.mkdir(train_path)\n",
        "#   os.mkdir(train_path + '/images')\n",
        "#   os.mkdir(train_path + '/labels')\n",
        "# if not os.path.exists(val_path):\n",
        "#   os.mkdir(val_path)\n",
        "#   os.mkdir(val_path + '/images')\n",
        "#   os.mkdir(val_path + '/labels')\n",
        "\n",
        "# for file in os.listdir(data1_imgtrainpath):\n",
        "#     shutil.copy(data1_imgtrainpath + '/' + file, train_path + '/images')\n",
        "# for file in os.listdir(data1_lbltrainpath):\n",
        "#     shutil.copy(data1_lbltrainpath + '/' + file, train_path + '/labels')\n",
        "# for file in os.listdir(data1_imgvalpath):\n",
        "#     shutil.copy(data1_imgvalpath + '/' + file, val_path + '/images')\n",
        "# for file in os.listdir(data1_lblvalpath):\n",
        "#     shutil.copy(data1_lblvalpath + '/' + file, val_path + '/labels')\n",
        "\n",
        "# for file in os.listdir(data2_imgtrainpath):\n",
        "#     shutil.copy(data2_imgtrainpath + '/' + file, train_path + '/images')\n",
        "# for file in os.listdir(data2_lbltrainpath):\n",
        "#     shutil.copy(data2_lbltrainpath + '/' + file, train_path + '/labels')\n",
        "# for file in os.listdir(data2_imgvalpath):\n",
        "#     shutil.copy(data2_imgvalpath + '/' + file, val_path + '/images')\n",
        "# for file in os.listdir(data2_lblvalpath):\n",
        "#     shutil.copy(data2_lblvalpath + '/' + file, val_path + '/labels')\n",
        "\n",
        "\n",
        "# print(len(os.listdir(train_path + '/images')))\n",
        "# print(len(os.listdir(train_path + '/labels')))\n",
        "# print(len(os.listdir(val_path + '/images')))\n",
        "# print(len(os.listdir(val_path + '/labels')))\n",
        "\n",
        "# for i in range(len(os.listdir(train_path + '/images'))):\n",
        "#     if os.listdir(train_path + '/images')[i][:-3] != os.listdir(train_path + '/labels')[i][:-3]:\n",
        "#       print(os.listdir(train_path + '/images')[i][:-3], os.listdir(train_path + '/labels')[i][:-3])\n",
        "#       print('error')\n",
        "#       break\n",
        "# for i in range(len(os.listdir(val_path + '/images'))):\n",
        "#     if os.listdir(val_path + '/images')[i][:-3] != os.listdir(val_path + '/labels')[i][:-3]:\n",
        "#       print(os.listdir(val_path + '/images')[i][:-3], os.listdir(val_path + '/labels')[i][:-3])\n",
        "#       print('error')\n",
        "#       break\n",
        "# print('done')"
      ]
    },
    {
      "cell_type": "code",
      "source": [
        "lst1 = sorted(os.listdir(train_path + '/images'))\n",
        "lst2 = sorted(os.listdir(train_path + '/labels'))\n",
        "lst3 = sorted(os.listdir(val_path + '/images'))\n",
        "lst4 = sorted(os.listdir(val_path + '/labels'))\n",
        "print(len(lst1))\n",
        "print(len(lst2))\n",
        "print(len(lst3))\n",
        "print(len(lst4))\n",
        "\n",
        "for i in range(len(lst2)):\n",
        "    if lst1[i][:-3] != lst2[i][:-3]:\n",
        "      print(i)\n",
        "      print(lst1[i], lst2[i])\n",
        "      print('error')\n",
        "      break\n",
        "for i in range(len(lst4)):\n",
        "    if lst3[i][:-3] != lst4[i][:-3]:\n",
        "      print(i)\n",
        "      print(lst3[i], lst4[i])\n",
        "      print('error')\n",
        "      break\n",
        "print('done')"
      ],
      "metadata": {
        "colab": {
          "base_uri": "https://localhost:8080/"
        },
        "id": "3-w5BflrM2md",
        "outputId": "751a5904-a8d9-4456-93c0-5274022adfc5"
      },
      "execution_count": null,
      "outputs": [
        {
          "output_type": "stream",
          "name": "stdout",
          "text": [
            "4557\n",
            "4557\n",
            "1020\n",
            "1020\n",
            "done\n"
          ]
        }
      ]
    },
    {
      "cell_type": "code",
      "source": [
        "# labelpath = train_dir + '/labels'\n",
        "# labelcount = {'0': 0, '1': 0, '2': 0, '3': 0, '4': 0, '5': 0,\n",
        "#               '6': 0, '7': 0, '8': 0, '9': 0, '10': 0, '11': 0,\n",
        "#               '12': 0, '13': 0, '14': 0, '15': 0, '16': 0, '17': 0,\n",
        "#               '18': 0, '19': 0, '20': 0, '21': 0, '22': 0, '23': 0}\n",
        "# def count_label(labelpath, labelcount):\n",
        "#   for f in os.listdir(labelpath):\n",
        "#     path = labelpath + '/' + f\n",
        "#     with open(path, 'r') as file:\n",
        "#         lines = file.readlines()\n",
        "#         for label_line in lines:\n",
        "#           lbl = label_line.split(' ')[0]\n",
        "#           labelcount[lbl] += 1\n",
        "#   print(labelcount)\n",
        "# count_label(labelpath, labelcount)"
      ],
      "metadata": {
        "id": "ff7wDygYx-rZ"
      },
      "execution_count": null,
      "outputs": []
    },
    {
      "cell_type": "code",
      "source": [
        "# ## Because of the different datasets, we need to relabel the data.\n",
        "# import os\n",
        "\n",
        "# ## ['Green Light', 'Red Light', 'Speed Limit 10', 'Speed Limit 100', 'Speed Limit 110', 'Speed Limit 120',\n",
        "# ## 'Speed Limit 20', 'Speed Limit 30', 'Speed Limit 40', 'Speed Limit 50', 'Speed Limit 60', 'Speed Limit 70',\n",
        "# ## 'Speed Limit 80', 'Speed Limit 90', 'Stop', 'No pedestrian crossing', 'No parking', 'Parking',\n",
        "# ## 'Give way', 'One way', 'No left turn', 'Speed limit', 'Bus lane', 'Pedestrian crossing']\n",
        "# def newlabel(label):\n",
        "#   labelchange = {'0': '0', '1': '1', '2': '2', '3': '2', '4': '2', '5': '2',\n",
        "#                  '6': '2', '7': '2', '8': '2', '9': '2', '10': '2', '11': '2',\n",
        "#                  '12': '2', '13': '2', '14': '3', '15': '4', '16': '5', '17': '6',\n",
        "#                  '18': '7', '19': '8', '20': '9', '21': '2', '22': '10', '23': '11'}\n",
        "#   return labelchange[label]\n",
        "\n",
        "# def changelabel(labelpath, labelcount):\n",
        "#   for f in os.listdir(labelpath):\n",
        "#     path = labelpath + '/' + f\n",
        "#     with open(path, 'r') as file:\n",
        "#       content = file.readlines()\n",
        "#       newcontent = []\n",
        "#       for c in content:\n",
        "#         labelarr = c.split(' ')\n",
        "#         labelarr[0] = newlabel(labelarr[0])\n",
        "#         labelcount[labelarr[0]] += 1\n",
        "#         c = ' '.join(labelarr)\n",
        "#         newcontent.append(c)\n",
        "#       with open(path, 'w') as file:\n",
        "#         file.writelines(newcontent)\n",
        "#   print(labelcount)\n",
        "\n",
        "# labelcount = {'0': 0, '1': 0, '2': 0, '3': 0, '4': 0, '5': 0,\n",
        "#               '6': 0, '7': 0, '8': 0, '9': 0, '10': 0, '11': 0,\n",
        "#               '12': 0, '13': 0, '14': 0, '15': 0, '16': 0, '17': 0,\n",
        "#               '18': 0, '19': 0, '20': 0, '21': 0, '22': 0, '23': 0}\n",
        "# print(len(os.listdir(train_path + '/labels')))\n",
        "# label_train_path = train_path + '/labels'\n",
        "# changelabel(label_train_path, labelcount)\n",
        "\n",
        "# # count_label(label_train_path, labelcount)\n",
        "\n",
        "# labelcount = {'0': 0, '1': 0, '2': 0, '3': 0, '4': 0, '5': 0,\n",
        "#               '6': 0, '7': 0, '8': 0, '9': 0, '10': 0, '11': 0,\n",
        "#               '12': 0, '13': 0, '14': 0, '15': 0, '16': 0, '17': 0,\n",
        "#               '18': 0, '19': 0, '20': 0, '21': 0, '22': 0, '23': 0}\n",
        "# print(len(os.listdir(val_path + '/labels')))\n",
        "# label_val_path = val_path + '/labels'\n",
        "# changelabel(label_val_path, labelcount)\n",
        "\n",
        "# # count_label(label_val_path, labelcount)"
      ],
      "metadata": {
        "colab": {
          "base_uri": "https://localhost:8080/"
        },
        "id": "teFo25ZSx2U4",
        "outputId": "52313ac6-b0f4-472e-b1e3-d614fa517efb"
      },
      "execution_count": null,
      "outputs": [
        {
          "output_type": "stream",
          "name": "stdout",
          "text": [
            "4557\n",
            "{'0': 542, '1': 585, '2': 2990, '3': 409, '4': 120, '5': 85, '6': 156, '7': 92, '8': 323, '9': 141, '10': 93, '11': 202, '12': 0, '13': 0, '14': 0, '15': 0, '16': 0, '17': 0, '18': 0, '19': 0, '20': 0, '21': 0, '22': 0, '23': 0}\n",
            "1020\n",
            "{'0': 122, '1': 108, '2': 654, '3': 122, '4': 27, '5': 20, '6': 25, '7': 21, '8': 70, '9': 22, '10': 20, '11': 21, '12': 0, '13': 0, '14': 0, '15': 0, '16': 0, '17': 0, '18': 0, '19': 0, '20': 0, '21': 0, '22': 0, '23': 0}\n"
          ]
        }
      ]
    }
  ],
  "metadata": {
    "accelerator": "GPU",
    "colab": {
      "gpuType": "T4",
      "provenance": [],
      "include_colab_link": true
    },
    "kernelspec": {
      "display_name": "Python 3",
      "name": "python3"
    },
    "language_info": {
      "name": "python"
    }
  },
  "nbformat": 4,
  "nbformat_minor": 0
}